{
 "cells": [
  {
   "cell_type": "code",
   "execution_count": 1,
   "metadata": {},
   "outputs": [],
   "source": [
    "\n",
    "import cv2\n",
    "import os\n",
    "import pickle\n",
    "import numpy as np\n",
    "import pandas as pd\n",
    "from tqdm import tqdm\n",
    "import tkinter as tk\n",
    "from tkinter import filedialog\n",
    "from IPython.display import Image\n",
    "from matplotlib import pyplot as plt\n",
    "from prettytable import PrettyTable   \n",
    "from astropy.table import Table, Column\n",
    "from sklearn.preprocessing import StandardScaler\n",
    "from sklearn.preprocessing import LabelEncoder\n",
    "from sklearn.model_selection import train_test_split\n",
    "from tensorflow.keras.models import Sequential\n",
    "from tensorflow.keras.layers import Dense, Conv1D, Conv2D, Flatten\n",
    "from tensorflow.keras.utils import to_categorical\n",
    "from tensorflow.keras.models import load_model\n",
    "import warnings; warnings.simplefilter('ignore')\n",
    "pd.options.mode.chained_assignment = None"
   ]
  },
  {
   "cell_type": "code",
   "execution_count": 2,
   "metadata": {},
   "outputs": [
    {
     "data": {
      "text/plain": [
       "LabelEncoder()"
      ]
     },
     "execution_count": 2,
     "metadata": {},
     "output_type": "execute_result"
    }
   ],
   "source": [
    "# Label\n",
    "label = pd.DataFrame({\"Label\":[\"apple\",\"bag\",\"circle\",\"door\",\"eye\",\"flower\",\"glass\",\"house\",\"ice cream\",\"jug\",\"kite\",\"leaf\",\"mango\",\"net\",\"number One\",\"pencil\",\"letter Q\",\"rectangle\",\"star\",\"triangle\",\"star\",\"triangle\",\"umbrella\",\"vehicle\",\"watch\",\"letter X\",\"letter y\",\"letter z\"]})\n",
    "label_encoder = LabelEncoder()\n",
    "\n",
    "# Train the Label Encoders\n",
    "label_encoder.fit(np.ravel(label))"
   ]
  },
  {
   "cell_type": "code",
   "execution_count": 3,
   "metadata": {},
   "outputs": [],
   "source": [
    "application_window = tk.Tk()\n",
    "# Build a list of tuples for each file type the file dialog should display\n",
    "\n",
    "my_filetypes = [('all files', '.*'), ('text files', '.txt')]\n",
    "\n",
    "# Ask the user to select a single file name\n",
    "user_file = filedialog.askopenfilename(parent=application_window,\n",
    "                                    initialdir=os.getcwd(),\n",
    "                                    title=\"Please select an Image to detect gender:\",\n",
    "                                    filetypes=my_filetypes)\n",
    "application_window.destroy()\n",
    "user_input=cv2.imread(user_file)"
   ]
  },
  {
   "cell_type": "code",
   "execution_count": 4,
   "metadata": {},
   "outputs": [
    {
     "name": "stdout",
     "output_type": "stream",
     "text": [
      "\n",
      "\n",
      "User Input Feature Vector:\n",
      "==========================\n",
      "\n",
      "[255 255 255 ... 255 255 255]\n"
     ]
    }
   ],
   "source": [
    "# Convert User Input into Feature Vector\n",
    "user_input = cv2.resize(user_input,(45,45),interpolation=cv2.INTER_AREA)\n",
    "user_input = user_input.flatten()\n",
    "print(\"\\n\\nUser Input Feature Vector:\")\n",
    "print(\"==========================\\n\")\n",
    "print(user_input)"
   ]
  },
  {
   "cell_type": "code",
   "execution_count": 5,
   "metadata": {},
   "outputs": [],
   "source": [
    "model = load_model(\"myTrained_Model.h5\")"
   ]
  },
  {
   "cell_type": "code",
   "execution_count": 6,
   "metadata": {},
   "outputs": [],
   "source": [
    "user_input = np.array(user_input)\n",
    "user_input = user_input.reshape(1, 45, 45, 3)\n",
    "predicted_label = model.predict([user_input])"
   ]
  },
  {
   "cell_type": "code",
   "execution_count": 7,
   "metadata": {},
   "outputs": [
    {
     "name": "stdout",
     "output_type": "stream",
     "text": [
      "\n",
      "\n",
      "==============\n",
      "['L : letter z']\n",
      "==============\n",
      "\n",
      "\n"
     ]
    }
   ],
   "source": [
    "predicted_label = np.argmax(predicted_label)\n",
    "predicted_label = label_encoder.inverse_transform([predicted_label])\n",
    "\n",
    "print(\"\\n\\n==============\")\n",
    "print(str(predicted_label[0][0].upper() + \" : \" + predicted_label))\n",
    "print(\"==============\\n\\n\")"
   ]
  },
  {
   "cell_type": "code",
   "execution_count": null,
   "metadata": {},
   "outputs": [],
   "source": []
  },
  {
   "cell_type": "code",
   "execution_count": null,
   "metadata": {},
   "outputs": [],
   "source": []
  },
  {
   "cell_type": "code",
   "execution_count": null,
   "metadata": {},
   "outputs": [],
   "source": []
  }
 ],
 "metadata": {
  "kernelspec": {
   "display_name": "Python 3",
   "language": "python",
   "name": "python3"
  },
  "language_info": {
   "codemirror_mode": {
    "name": "ipython",
    "version": 3
   },
   "file_extension": ".py",
   "mimetype": "text/x-python",
   "name": "python",
   "nbconvert_exporter": "python",
   "pygments_lexer": "ipython3",
   "version": "3.7.9"
  }
 },
 "nbformat": 4,
 "nbformat_minor": 4
}
